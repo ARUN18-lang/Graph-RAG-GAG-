{
  "cells": [
    {
      "cell_type": "code",
      "execution_count": null,
      "metadata": {
        "colab": {
          "background_save": true,
          "base_uri": "https://localhost:8080/"
        },
        "id": "JXY5WsDaIocO",
        "outputId": "ca97f409-9846-41cf-afbd-010eead829f2"
      },
      "outputs": [
        {
          "name": "stdout",
          "output_type": "stream",
          "text": [
            "Requirement already satisfied: langchain in /usr/local/lib/python3.11/dist-packages (0.3.17)\n",
            "Collecting langchain_community\n",
            "  Downloading langchain_community-0.3.17-py3-none-any.whl.metadata (2.4 kB)\n",
            "Collecting neo4j\n",
            "  Downloading neo4j-5.28.0-py3-none-any.whl.metadata (5.9 kB)\n",
            "Collecting langchain_groq\n",
            "  Downloading langchain_groq-0.2.4-py3-none-any.whl.metadata (3.0 kB)\n",
            "Requirement already satisfied: PyYAML>=5.3 in /usr/local/lib/python3.11/dist-packages (from langchain) (6.0.2)\n",
            "Requirement already satisfied: SQLAlchemy<3,>=1.4 in /usr/local/lib/python3.11/dist-packages (from langchain) (2.0.37)\n",
            "Requirement already satisfied: aiohttp<4.0.0,>=3.8.3 in /usr/local/lib/python3.11/dist-packages (from langchain) (3.11.11)\n",
            "Requirement already satisfied: langchain-core<0.4.0,>=0.3.33 in /usr/local/lib/python3.11/dist-packages (from langchain) (0.3.33)\n",
            "Requirement already satisfied: langchain-text-splitters<0.4.0,>=0.3.3 in /usr/local/lib/python3.11/dist-packages (from langchain) (0.3.5)\n",
            "Requirement already satisfied: langsmith<0.4,>=0.1.17 in /usr/local/lib/python3.11/dist-packages (from langchain) (0.3.5)\n",
            "Requirement already satisfied: numpy<2,>=1.22.4 in /usr/local/lib/python3.11/dist-packages (from langchain) (1.26.4)\n",
            "Requirement already satisfied: pydantic<3.0.0,>=2.7.4 in /usr/local/lib/python3.11/dist-packages (from langchain) (2.10.6)\n",
            "Requirement already satisfied: requests<3,>=2 in /usr/local/lib/python3.11/dist-packages (from langchain) (2.32.3)\n",
            "Requirement already satisfied: tenacity!=8.4.0,<10,>=8.1.0 in /usr/local/lib/python3.11/dist-packages (from langchain) (9.0.0)\n",
            "Collecting langchain-core<0.4.0,>=0.3.33 (from langchain)\n",
            "  Downloading langchain_core-0.3.34-py3-none-any.whl.metadata (5.9 kB)\n",
            "Collecting langchain\n",
            "  Downloading langchain-0.3.18-py3-none-any.whl.metadata (7.8 kB)\n",
            "Collecting dataclasses-json<0.7,>=0.5.7 (from langchain_community)\n",
            "  Downloading dataclasses_json-0.6.7-py3-none-any.whl.metadata (25 kB)\n",
            "Collecting pydantic-settings<3.0.0,>=2.4.0 (from langchain_community)\n",
            "  Downloading pydantic_settings-2.7.1-py3-none-any.whl.metadata (3.5 kB)\n",
            "Collecting httpx-sse<1.0.0,>=0.4.0 (from langchain_community)\n",
            "  Downloading httpx_sse-0.4.0-py3-none-any.whl.metadata (9.0 kB)\n",
            "Collecting langchain-text-splitters<1.0.0,>=0.3.6 (from langchain)\n",
            "  Downloading langchain_text_splitters-0.3.6-py3-none-any.whl.metadata (1.9 kB)\n",
            "Requirement already satisfied: pytz in /usr/local/lib/python3.11/dist-packages (from neo4j) (2025.1)\n",
            "Collecting groq<1,>=0.4.1 (from langchain_groq)\n",
            "  Downloading groq-0.18.0-py3-none-any.whl.metadata (14 kB)\n",
            "Requirement already satisfied: aiohappyeyeballs>=2.3.0 in /usr/local/lib/python3.11/dist-packages (from aiohttp<4.0.0,>=3.8.3->langchain) (2.4.4)\n",
            "Requirement already satisfied: aiosignal>=1.1.2 in /usr/local/lib/python3.11/dist-packages (from aiohttp<4.0.0,>=3.8.3->langchain) (1.3.2)\n",
            "Requirement already satisfied: attrs>=17.3.0 in /usr/local/lib/python3.11/dist-packages (from aiohttp<4.0.0,>=3.8.3->langchain) (25.1.0)\n",
            "Requirement already satisfied: frozenlist>=1.1.1 in /usr/local/lib/python3.11/dist-packages (from aiohttp<4.0.0,>=3.8.3->langchain) (1.5.0)\n",
            "Requirement already satisfied: multidict<7.0,>=4.5 in /usr/local/lib/python3.11/dist-packages (from aiohttp<4.0.0,>=3.8.3->langchain) (6.1.0)\n",
            "Requirement already satisfied: propcache>=0.2.0 in /usr/local/lib/python3.11/dist-packages (from aiohttp<4.0.0,>=3.8.3->langchain) (0.2.1)\n",
            "Requirement already satisfied: yarl<2.0,>=1.17.0 in /usr/local/lib/python3.11/dist-packages (from aiohttp<4.0.0,>=3.8.3->langchain) (1.18.3)\n",
            "Collecting marshmallow<4.0.0,>=3.18.0 (from dataclasses-json<0.7,>=0.5.7->langchain_community)\n",
            "  Downloading marshmallow-3.26.1-py3-none-any.whl.metadata (7.3 kB)\n",
            "Collecting typing-inspect<1,>=0.4.0 (from dataclasses-json<0.7,>=0.5.7->langchain_community)\n",
            "  Downloading typing_inspect-0.9.0-py3-none-any.whl.metadata (1.5 kB)\n",
            "Requirement already satisfied: anyio<5,>=3.5.0 in /usr/local/lib/python3.11/dist-packages (from groq<1,>=0.4.1->langchain_groq) (3.7.1)\n",
            "Requirement already satisfied: distro<2,>=1.7.0 in /usr/local/lib/python3.11/dist-packages (from groq<1,>=0.4.1->langchain_groq) (1.9.0)\n",
            "Requirement already satisfied: httpx<1,>=0.23.0 in /usr/local/lib/python3.11/dist-packages (from groq<1,>=0.4.1->langchain_groq) (0.28.1)\n",
            "Requirement already satisfied: sniffio in /usr/local/lib/python3.11/dist-packages (from groq<1,>=0.4.1->langchain_groq) (1.3.1)\n",
            "Requirement already satisfied: typing-extensions<5,>=4.10 in /usr/local/lib/python3.11/dist-packages (from groq<1,>=0.4.1->langchain_groq) (4.12.2)\n",
            "Requirement already satisfied: jsonpatch<2.0,>=1.33 in /usr/local/lib/python3.11/dist-packages (from langchain-core<0.4.0,>=0.3.33->langchain) (1.33)\n",
            "Requirement already satisfied: packaging<25,>=23.2 in /usr/local/lib/python3.11/dist-packages (from langchain-core<0.4.0,>=0.3.33->langchain) (24.2)\n",
            "Requirement already satisfied: orjson<4.0.0,>=3.9.14 in /usr/local/lib/python3.11/dist-packages (from langsmith<0.4,>=0.1.17->langchain) (3.10.15)\n",
            "Requirement already satisfied: requests-toolbelt<2.0.0,>=1.0.0 in /usr/local/lib/python3.11/dist-packages (from langsmith<0.4,>=0.1.17->langchain) (1.0.0)\n",
            "Requirement already satisfied: zstandard<0.24.0,>=0.23.0 in /usr/local/lib/python3.11/dist-packages (from langsmith<0.4,>=0.1.17->langchain) (0.23.0)\n",
            "Requirement already satisfied: annotated-types>=0.6.0 in /usr/local/lib/python3.11/dist-packages (from pydantic<3.0.0,>=2.7.4->langchain) (0.7.0)\n",
            "Requirement already satisfied: pydantic-core==2.27.2 in /usr/local/lib/python3.11/dist-packages (from pydantic<3.0.0,>=2.7.4->langchain) (2.27.2)\n",
            "Collecting python-dotenv>=0.21.0 (from pydantic-settings<3.0.0,>=2.4.0->langchain_community)\n",
            "  Downloading python_dotenv-1.0.1-py3-none-any.whl.metadata (23 kB)\n",
            "Requirement already satisfied: charset-normalizer<4,>=2 in /usr/local/lib/python3.11/dist-packages (from requests<3,>=2->langchain) (3.4.1)\n",
            "Requirement already satisfied: idna<4,>=2.5 in /usr/local/lib/python3.11/dist-packages (from requests<3,>=2->langchain) (3.10)\n",
            "Requirement already satisfied: urllib3<3,>=1.21.1 in /usr/local/lib/python3.11/dist-packages (from requests<3,>=2->langchain) (2.3.0)\n",
            "Requirement already satisfied: certifi>=2017.4.17 in /usr/local/lib/python3.11/dist-packages (from requests<3,>=2->langchain) (2025.1.31)\n",
            "Requirement already satisfied: greenlet!=0.4.17 in /usr/local/lib/python3.11/dist-packages (from SQLAlchemy<3,>=1.4->langchain) (3.1.1)\n",
            "Requirement already satisfied: httpcore==1.* in /usr/local/lib/python3.11/dist-packages (from httpx<1,>=0.23.0->groq<1,>=0.4.1->langchain_groq) (1.0.7)\n",
            "Requirement already satisfied: h11<0.15,>=0.13 in /usr/local/lib/python3.11/dist-packages (from httpcore==1.*->httpx<1,>=0.23.0->groq<1,>=0.4.1->langchain_groq) (0.14.0)\n",
            "Requirement already satisfied: jsonpointer>=1.9 in /usr/local/lib/python3.11/dist-packages (from jsonpatch<2.0,>=1.33->langchain-core<0.4.0,>=0.3.33->langchain) (3.0.0)\n",
            "Collecting mypy-extensions>=0.3.0 (from typing-inspect<1,>=0.4.0->dataclasses-json<0.7,>=0.5.7->langchain_community)\n",
            "  Downloading mypy_extensions-1.0.0-py3-none-any.whl.metadata (1.1 kB)\n",
            "Downloading langchain_community-0.3.17-py3-none-any.whl (2.5 MB)\n",
            "\u001b[2K   \u001b[90m━━━━━━━━━━━━━━━━━━━━━━━━━━━━━━━━━━━━━━━━\u001b[0m \u001b[32m2.5/2.5 MB\u001b[0m \u001b[31m38.6 MB/s\u001b[0m eta \u001b[36m0:00:00\u001b[0m\n",
            "\u001b[?25hDownloading langchain-0.3.18-py3-none-any.whl (1.0 MB)\n",
            "\u001b[2K   \u001b[90m━━━━━━━━━━━━━━━━━━━━━━━━━━━━━━━━━━━━━━━━\u001b[0m \u001b[32m1.0/1.0 MB\u001b[0m \u001b[31m52.6 MB/s\u001b[0m eta \u001b[36m0:00:00\u001b[0m\n",
            "\u001b[?25hDownloading neo4j-5.28.0-py3-none-any.whl (311 kB)\n",
            "\u001b[2K   \u001b[90m━━━━━━━━━━━━━━━━━━━━━━━━━━━━━━━━━━━━━━━━\u001b[0m \u001b[32m311.9/311.9 kB\u001b[0m \u001b[31m25.0 MB/s\u001b[0m eta \u001b[36m0:00:00\u001b[0m\n",
            "\u001b[?25hDownloading langchain_groq-0.2.4-py3-none-any.whl (14 kB)\n",
            "Downloading dataclasses_json-0.6.7-py3-none-any.whl (28 kB)\n",
            "Downloading groq-0.18.0-py3-none-any.whl (121 kB)\n",
            "\u001b[2K   \u001b[90m━━━━━━━━━━━━━━━━━━━━━━━━━━━━━━━━━━━━━━━━\u001b[0m \u001b[32m121.9/121.9 kB\u001b[0m \u001b[31m11.1 MB/s\u001b[0m eta \u001b[36m0:00:00\u001b[0m\n",
            "\u001b[?25hDownloading httpx_sse-0.4.0-py3-none-any.whl (7.8 kB)\n",
            "Downloading langchain_core-0.3.34-py3-none-any.whl (412 kB)\n",
            "\u001b[2K   \u001b[90m━━━━━━━━━━━━━━━━━━━━━━━━━━━━━━━━━━━━━━━━\u001b[0m \u001b[32m413.0/413.0 kB\u001b[0m \u001b[31m28.5 MB/s\u001b[0m eta \u001b[36m0:00:00\u001b[0m\n",
            "\u001b[?25hDownloading langchain_text_splitters-0.3.6-py3-none-any.whl (31 kB)\n",
            "Downloading pydantic_settings-2.7.1-py3-none-any.whl (29 kB)\n",
            "Downloading marshmallow-3.26.1-py3-none-any.whl (50 kB)\n",
            "\u001b[2K   \u001b[90m━━━━━━━━━━━━━━━━━━━━━━━━━━━━━━━━━━━━━━━━\u001b[0m \u001b[32m50.9/50.9 kB\u001b[0m \u001b[31m4.5 MB/s\u001b[0m eta \u001b[36m0:00:00\u001b[0m\n",
            "\u001b[?25hDownloading python_dotenv-1.0.1-py3-none-any.whl (19 kB)\n",
            "Downloading typing_inspect-0.9.0-py3-none-any.whl (8.8 kB)\n",
            "Downloading mypy_extensions-1.0.0-py3-none-any.whl (4.7 kB)\n",
            "Installing collected packages: python-dotenv, neo4j, mypy-extensions, marshmallow, httpx-sse, typing-inspect, pydantic-settings, groq, dataclasses-json, langchain-core, langchain-text-splitters, langchain_groq, langchain, langchain_community\n",
            "  Attempting uninstall: langchain-core\n",
            "    Found existing installation: langchain-core 0.3.33\n",
            "    Uninstalling langchain-core-0.3.33:\n",
            "      Successfully uninstalled langchain-core-0.3.33\n",
            "  Attempting uninstall: langchain-text-splitters\n",
            "    Found existing installation: langchain-text-splitters 0.3.5\n",
            "    Uninstalling langchain-text-splitters-0.3.5:\n",
            "      Successfully uninstalled langchain-text-splitters-0.3.5\n",
            "  Attempting uninstall: langchain\n",
            "    Found existing installation: langchain 0.3.17\n",
            "    Uninstalling langchain-0.3.17:\n",
            "      Successfully uninstalled langchain-0.3.17\n",
            "Successfully installed dataclasses-json-0.6.7 groq-0.18.0 httpx-sse-0.4.0 langchain-0.3.18 langchain-core-0.3.34 langchain-text-splitters-0.3.6 langchain_community-0.3.17 langchain_groq-0.2.4 marshmallow-3.26.1 mypy-extensions-1.0.0 neo4j-5.28.0 pydantic-settings-2.7.1 python-dotenv-1.0.1 typing-inspect-0.9.0\n"
          ]
        }
      ],
      "source": [
        "!pip install langchain langchain_community neo4j langchain_groq"
      ]
    },
    {
      "cell_type": "code",
      "execution_count": 5,
      "metadata": {
        "colab": {
          "base_uri": "https://localhost:8080/"
        },
        "id": "aQJBFVmvJ77R",
        "outputId": "b222ff2a-f903-4c95-93b6-eafb503cecf1"
      },
      "outputs": [
        {
          "output_type": "stream",
          "name": "stdout",
          "text": [
            "   number      id    imdb_id  popularity     budget     revenue  \\\n",
            "0       0  135397  tt0369610   32.985763  150000000  1513528810   \n",
            "1       1   76341  tt1392190   28.419936  150000000   378436354   \n",
            "2       2  262500  tt2908446   13.112507  110000000   295238201   \n",
            "3       3  140607  tt2488496   11.173104  200000000  2068178225   \n",
            "4       4  168259  tt2820852    9.335014  190000000  1506249360   \n",
            "\n",
            "                 original_title  \\\n",
            "0                Jurassic World   \n",
            "1            Mad Max: Fury Road   \n",
            "2                     Insurgent   \n",
            "3  Star Wars: The Force Awakens   \n",
            "4                     Furious 7   \n",
            "\n",
            "                                                cast  \\\n",
            "0  Chris Pratt|Bryce Dallas Howard|Irrfan Khan|Vi...   \n",
            "1  Tom Hardy|Charlize Theron|Hugh Keays-Byrne|Nic...   \n",
            "2  Shailene Woodley|Theo James|Kate Winslet|Ansel...   \n",
            "3  Harrison Ford|Mark Hamill|Carrie Fisher|Adam D...   \n",
            "4  Vin Diesel|Paul Walker|Jason Statham|Michelle ...   \n",
            "\n",
            "                                            homepage          director  ...  \\\n",
            "0                      http://www.jurassicworld.com/   Colin Trevorrow  ...   \n",
            "1                        http://www.madmaxmovie.com/     George Miller  ...   \n",
            "2     http://www.thedivergentseries.movie/#insurgent  Robert Schwentke  ...   \n",
            "3  http://www.starwars.com/films/star-wars-episod...       J.J. Abrams  ...   \n",
            "4                           http://www.furious7.com/         James Wan  ...   \n",
            "\n",
            "                                      genres  \\\n",
            "0  Action|Adventure|Science Fiction|Thriller   \n",
            "1  Action|Adventure|Science Fiction|Thriller   \n",
            "2         Adventure|Science Fiction|Thriller   \n",
            "3   Action|Adventure|Science Fiction|Fantasy   \n",
            "4                      Action|Crime|Thriller   \n",
            "\n",
            "                                production_companies release_date  vote_count  \\\n",
            "0  Universal Studios|Amblin Entertainment|Legenda...   09-06-2015        5562   \n",
            "1  Village Roadshow Pictures|Kennedy Miller Produ...   13-05-2015        6185   \n",
            "2  Summit Entertainment|Mandeville Films|Red Wago...   18-03-2015        2480   \n",
            "3          Lucasfilm|Truenorth Productions|Bad Robot   15-12-2015        5292   \n",
            "4  Universal Pictures|Original Film|Media Rights ...   01-04-2015        2947   \n",
            "\n",
            "  vote_average release_year   budget_adj   revenue_adj      profit  \\\n",
            "0          6.5         2015  137999939.3  1.392446e+09  1363528810   \n",
            "1          7.1         2015  137999939.3  3.481613e+08   228436354   \n",
            "2          6.3         2015  101199955.5  2.716190e+08   185238201   \n",
            "3          7.5         2015  183999919.0  1.902723e+09  1868178225   \n",
            "4          7.3         2015  174799923.1  1.385749e+09  1316249360   \n",
            "\n",
            "   popularity_level  \n",
            "0              High  \n",
            "1              High  \n",
            "2              High  \n",
            "3              High  \n",
            "4              High  \n",
            "\n",
            "[5 rows x 24 columns]\n"
          ]
        }
      ],
      "source": [
        "import pandas as pd\n",
        "df = pd.read_csv(\"dataset.csv\")\n",
        "print(df.head())"
      ]
    },
    {
      "cell_type": "code",
      "execution_count": 4,
      "metadata": {
        "id": "US-svEUvOrA2"
      },
      "outputs": [],
      "source": [
        "from google.colab import userdata\n",
        "import os\n",
        "os.environ['NEO4J_USERNAME'] = userdata.get('NEO4J_USERNAME')\n",
        "os.environ['NEO4J_PASSWORD'] = userdata.get('NEO4J_PASSWORD')\n",
        "os.environ['GROQ_API_KEY'] = userdata.get('GROQ_API_KEY')"
      ]
    },
    {
      "cell_type": "code",
      "execution_count": 7,
      "metadata": {
        "colab": {
          "base_uri": "https://localhost:8080/"
        },
        "id": "-jumDG16JBx3",
        "outputId": "6cf27cb1-b660-4aa8-e751-ee7c4c657ccb"
      },
      "outputs": [
        {
          "output_type": "execute_result",
          "data": {
            "text/plain": [
              "[]"
            ]
          },
          "metadata": {},
          "execution_count": 7
        }
      ],
      "source": [
        "from re import M\n",
        "from langchain_community.graphs import Neo4jGraph\n",
        "\n",
        "graph = Neo4jGraph(url=\"neo4j+s://75bd7571.databases.neo4j.io\")\n",
        "\n",
        "movies_query = \"\"\"\n",
        "LOAD CSV WITH HEADERS FROM\n",
        "'https://raw.githubusercontent.com/ShivaniBandapalli/Movie-Recommendation/main/dataset.csv'\n",
        "AS row\n",
        "WITH row WHERE row.id IS NOT NULL AND row.id <> \"\"\n",
        "MERGE (m:Movie {id: row.id})\n",
        "SET m.imdb_id = row.imdb_id,\n",
        "    m.originalt_title = row.original_title,\n",
        "    m.popularity = toFloat(row.popularity),\n",
        "    m.budget = toInteger(row.budget),\n",
        "    m.revenue = toInteger(row.revenue),\n",
        "    m.vote_average = toFloat(row.vote_average),\n",
        "    m.release_year = toInteger(row.release_year)\n",
        "\n",
        "FOREACH (director IN split(row.director, '|') |\n",
        "  MERGE (p:Person {name: trim(director)})\n",
        "  MERGE (p)-[:DIRECTED]->(m))\n",
        "\n",
        "FOREACH (actor IN split(row.cast, '|') |\n",
        "  MERGE (p:Person {name: trim(actor)})\n",
        "  MERGE (p)-[:ACTED_IN]->(m))\n",
        "\n",
        "FOREACH (genre IN split(row.genres, '|') |\n",
        "  MERGE (g:Genre {name: trim(genre)})\n",
        "  MERGE (m)-[:IN_GENRE]->(g))\n",
        "\n",
        "FOREACH (company IN split(row.production_companies, '|') |\n",
        "  MERGE (c:Company {name: trim(company)})\n",
        "  MERGE (m)-[:PRODUCED_BY]->(c))\n",
        "\"\"\"\n",
        "\n",
        "graph.query(movies_query)"
      ]
    },
    {
      "cell_type": "code",
      "execution_count": 13,
      "metadata": {
        "colab": {
          "base_uri": "https://localhost:8080/"
        },
        "id": "izRsUAxzJB0f",
        "outputId": "7c4f1c19-c558-4e3d-e0d0-ce6b5efdf2e7"
      },
      "outputs": [
        {
          "output_type": "stream",
          "name": "stdout",
          "text": [
            "Node properties:\n",
            "Movie {id: STRING, imdb_id: STRING, title: STRING, popularity: FLOAT, budget: INTEGER, revenue: INTEGER, vote_average: FLOAT, release_year: INTEGER, originalt_itle: STRING, originalt_title: STRING}\n",
            "Person {name: STRING}\n",
            "Genre {name: STRING}\n",
            "Company {name: STRING}\n",
            "Relationship properties:\n",
            "\n",
            "The relationships:\n",
            "(:Movie)-[:IN_GENRE]->(:Genre)\n",
            "(:Movie)-[:PRODUCED_BY]->(:Company)\n",
            "(:Person)-[:DIRECTED]->(:Movie)\n",
            "(:Person)-[:ACTED_IN]->(:Movie)\n"
          ]
        }
      ],
      "source": [
        "graph.refresh_schema()\n",
        "graph_schema = graph.schema\n",
        "print(graph_schema)"
      ]
    },
    {
      "cell_type": "code",
      "source": [
        "!pip install groq"
      ],
      "metadata": {
        "colab": {
          "base_uri": "https://localhost:8080/"
        },
        "id": "vEV0zLjQ6lqD",
        "outputId": "2e532c8f-6bc9-4ebc-f4c1-546191c64ca9"
      },
      "execution_count": 33,
      "outputs": [
        {
          "output_type": "stream",
          "name": "stdout",
          "text": [
            "Requirement already satisfied: groq in /usr/local/lib/python3.11/dist-packages (0.18.0)\n",
            "Requirement already satisfied: anyio<5,>=3.5.0 in /usr/local/lib/python3.11/dist-packages (from groq) (3.7.1)\n",
            "Requirement already satisfied: distro<2,>=1.7.0 in /usr/local/lib/python3.11/dist-packages (from groq) (1.9.0)\n",
            "Requirement already satisfied: httpx<1,>=0.23.0 in /usr/local/lib/python3.11/dist-packages (from groq) (0.28.1)\n",
            "Requirement already satisfied: pydantic<3,>=1.9.0 in /usr/local/lib/python3.11/dist-packages (from groq) (2.10.6)\n",
            "Requirement already satisfied: sniffio in /usr/local/lib/python3.11/dist-packages (from groq) (1.3.1)\n",
            "Requirement already satisfied: typing-extensions<5,>=4.10 in /usr/local/lib/python3.11/dist-packages (from groq) (4.12.2)\n",
            "Requirement already satisfied: idna>=2.8 in /usr/local/lib/python3.11/dist-packages (from anyio<5,>=3.5.0->groq) (3.10)\n",
            "Requirement already satisfied: certifi in /usr/local/lib/python3.11/dist-packages (from httpx<1,>=0.23.0->groq) (2025.1.31)\n",
            "Requirement already satisfied: httpcore==1.* in /usr/local/lib/python3.11/dist-packages (from httpx<1,>=0.23.0->groq) (1.0.7)\n",
            "Requirement already satisfied: h11<0.15,>=0.13 in /usr/local/lib/python3.11/dist-packages (from httpcore==1.*->httpx<1,>=0.23.0->groq) (0.14.0)\n",
            "Requirement already satisfied: annotated-types>=0.6.0 in /usr/local/lib/python3.11/dist-packages (from pydantic<3,>=1.9.0->groq) (0.7.0)\n",
            "Requirement already satisfied: pydantic-core==2.27.2 in /usr/local/lib/python3.11/dist-packages (from pydantic<3,>=1.9.0->groq) (2.27.2)\n"
          ]
        }
      ]
    },
    {
      "cell_type": "code",
      "source": [
        "from groq import Groq\n",
        "from langchain_core.runnables import Runnable\n",
        "\n",
        "client = Groq(\n",
        "    api_key=userdata.get('GROQ_API_KEY')\n",
        ")\n",
        "\n",
        "class Agent(Runnable):\n",
        "\n",
        "    def __init__(self, client, system):\n",
        "        self.client = client\n",
        "        self.system = system\n",
        "        self.messages = []\n",
        "        if self.system:\n",
        "            self.messages.append({\"role\": \"system\", \"content\": self.system})\n",
        "\n",
        "    def invoke(self, input_message, config=None, **kwargs):\n",
        "        if not isinstance(input_message, str):\n",
        "            input_message = str(input_message)\n",
        "\n",
        "        self.messages.append({\"role\": \"user\", \"content\": input_message})\n",
        "        response = self.execute()\n",
        "        self.messages.append({\"role\": \"assistant\", \"content\": response})\n",
        "        return response\n",
        "\n",
        "    def execute(self):\n",
        "        completions = self.client.chat.completions.create(\n",
        "            messages=self.messages,\n",
        "            model=\"gemma2-9b-it\",\n",
        "            temperature=0.2,\n",
        "        )\n",
        "        return completions.choices[0].message.content\n",
        ""
      ],
      "metadata": {
        "id": "ypTE2J6H6aA6"
      },
      "execution_count": 48,
      "outputs": []
    },
    {
      "cell_type": "code",
      "source": [
        "system_prompt = \"\"\"\n",
        "You are a Neo4j expert who generates Cypher queries and responds with natural language explanations.\n",
        "\"\"\"\n",
        "agent = Agent(client, system_prompt)"
      ],
      "metadata": {
        "id": "Fh8rogod_YQG"
      },
      "execution_count": 55,
      "outputs": []
    },
    {
      "cell_type": "code",
      "execution_count": 22,
      "metadata": {
        "id": "YMOsfaMMJB33"
      },
      "outputs": [],
      "source": [
        "\"\"\"from langchain_groq import ChatGroq\n",
        "\n",
        "llm = ChatGroq(\n",
        "    model = \"gemma2-9b-it\",\n",
        "    temperature = 0.01,\n",
        ")\"\"\""
      ]
    },
    {
      "cell_type": "code",
      "execution_count": 18,
      "metadata": {
        "colab": {
          "base_uri": "https://localhost:8080/"
        },
        "id": "YLha81kJTM2U",
        "outputId": "4471e9f9-d9b6-4bec-b29f-eec572ea0b1c"
      },
      "outputs": [
        {
          "output_type": "stream",
          "name": "stdout",
          "text": [
            "You are a Neo4j expert. Given an input question, create a syntactically correct Cypher query\n",
            " Here is the schema information\n",
            "\n",
            "User input: How many artists are there?\n",
            "Cypher query: MATCH (a:Person) RETURN count(a) AS total_artists\n",
            "\n",
            "User input: How many movies were released in the year 2000?\n",
            "Cypher query: MATCH (m:Movie) WHERE m.release_year = 2000 RETURN count(m) AS total_movies\n",
            "\n",
            "User input: How many artists are there?\n",
            "Cypher query:\n"
          ]
        }
      ],
      "source": [
        "from langchain_core.prompts import FewShotPromptTemplate, PromptTemplate\n",
        "\n",
        "\n",
        "examples = [\n",
        "    {\n",
        "        \"question\": \"How many artists are there?\",\n",
        "        \"query\": \"MATCH (a:Person) RETURN count(a) AS total_artists\"\n",
        "    },\n",
        "    {\n",
        "        \"question\": \"How many movies were released in the year 2000?\",\n",
        "        \"query\": \"MATCH (m:Movie) WHERE m.release_year = 2000 RETURN count(m) AS total_movies\"\n",
        "    },\n",
        "]\n",
        "\n",
        "example_prompt = PromptTemplate.from_template(\"User input: {question}\\nCypher query: {query}\")\n",
        "\n",
        "prompt_with_few_shot = FewShotPromptTemplate(\n",
        "    examples=examples,\n",
        "    example_prompt=example_prompt,\n",
        "    prefix=\"You are a Neo4j expert. Given an input question, create a syntactically correct Cypher query\\n Here is the schema information\",\n",
        "    suffix=\"User input: {question}\\nCypher query:\",\n",
        "    input_variables=[\"question\", \"schema\"]\n",
        ")\n",
        "\n",
        "formatted_prompt = prompt_with_few_shot.format(question=\"How many artists are there?\", schema=\"foo\")\n",
        "print(formatted_prompt)\n"
      ]
    },
    {
      "cell_type": "code",
      "execution_count": 54,
      "metadata": {
        "colab": {
          "base_uri": "https://localhost:8080/"
        },
        "id": "V-mcnj9iTM8D",
        "outputId": "57307edf-3562-409e-c844-2f9ca0cf860b"
      },
      "outputs": [
        {
          "output_type": "stream",
          "name": "stdout",
          "text": [
            "\n",
            "\n",
            "\u001b[1m> Entering new GraphCypherQAChain chain...\u001b[0m\n",
            "Generated Cypher:\n",
            "\u001b[32;1m\u001b[1;3mcypher\n",
            "MATCH (d:Person {name: \"Colin Trevorrow\"})-[:DIRECTED]->(m:Movie) RETURN m.title AS movie_title\n",
            "\u001b[0m\n",
            "Full Context:\n",
            "\u001b[32;1m\u001b[1;3m[{'movie_title': 'Jurassic World'}]\u001b[0m\n",
            "\n",
            "\u001b[1m> Finished chain.\u001b[0m\n"
          ]
        },
        {
          "output_type": "execute_result",
          "data": {
            "text/plain": [
              "{'query': 'colin trevorrow directed which movie?',\n",
              " 'result': 'Colin Trevorrow directed Jurassic World. \\n',\n",
              " 'intermediate_steps': [{'query': 'cypher\\nMATCH (d:Person {name: \"Colin Trevorrow\"})-[:DIRECTED]->(m:Movie) RETURN m.title AS movie_title\\n'},\n",
              "  {'context': [{'movie_title': 'Jurassic World'}]}]}"
            ]
          },
          "metadata": {},
          "execution_count": 54
        }
      ],
      "source": [
        "from langchain.chains import GraphCypherQAChain\n",
        "\n",
        "chain = GraphCypherQAChain.from_llm(\n",
        "    graph=graph,\n",
        "    llm=agent,\n",
        "    cypher_prompt=prompt_with_few_shot,\n",
        "    verbose=True,\n",
        "    return_intermediate_steps=True,\n",
        "    allow_dangerous_requests=True\n",
        ")\n",
        "\n",
        "response = chain.invoke({\"query\": \"colin trevorrow directed which movie?\"})\n",
        "response"
      ]
    }
  ],
  "metadata": {
    "accelerator": "GPU",
    "colab": {
      "gpuType": "T4",
      "provenance": []
    },
    "kernelspec": {
      "display_name": "Python 3",
      "name": "python3"
    },
    "language_info": {
      "name": "python"
    }
  },
  "nbformat": 4,
  "nbformat_minor": 0
}